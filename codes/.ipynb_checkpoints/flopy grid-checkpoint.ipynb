{
 "cells": [
  {
   "cell_type": "code",
   "execution_count": 1,
   "id": "f1e868a6",
   "metadata": {},
   "outputs": [],
   "source": [
    "import flopy as fp\n",
    "import numpy as np\n",
    "import matplotlib.pyplot as plt\n",
    "from matplotlib import colors\n",
    "import sys\n",
    "sys.path.append('../modules')\n",
    "import geone as gn\n",
    "import geopandas as gpd\n",
    "import pandas as pd\n",
    "\n",
    "import fonctions_roussillon as fr"
   ]
  },
  {
   "cell_type": "code",
   "execution_count": 2,
   "id": "f14affb7",
   "metadata": {},
   "outputs": [],
   "source": [
    "cmap = colors.ListedColormap(['orange', 'forestgreen','sienna','gold','navy','darksalmon','lightblue'])\n",
    "bounds=[0.5,1.5,2.5,3.5,4.5,5.5,6.5,7.5]\n",
    "norm = colors.BoundaryNorm(bounds, cmap.N)"
   ]
  },
  {
   "cell_type": "code",
   "execution_count": 3,
   "id": "c2667fd2",
   "metadata": {},
   "outputs": [],
   "source": [
    "geol_path=\"../data/cross_section/geol_complete.tif\""
   ]
  },
  {
   "cell_type": "code",
   "execution_count": 4,
   "id": "36d18624",
   "metadata": {},
   "outputs": [],
   "source": [
    "geol=fp.utils.Raster.load(geol_path)"
   ]
  },
  {
   "cell_type": "code",
   "execution_count": 5,
   "id": "8b93fbde",
   "metadata": {},
   "outputs": [],
   "source": [
    "cr=gpd.read_file('../data/cross_section/cr_demmer.shp')\n",
    "\n",
    "demmerx=24100\n",
    "demmerx_real=702705\n",
    "transfo=demmerx_real-demmerx\n",
    "\n",
    "alt_liss=cr.alt.rolling(100).mean()"
   ]
  },
  {
   "cell_type": "code",
   "execution_count": 6,
   "id": "262d9e5a",
   "metadata": {},
   "outputs": [
    {
     "name": "stdout",
     "output_type": "stream",
     "text": [
      "205 170\n"
     ]
    }
   ],
   "source": [
    "x0,x1,z0,z1=24100,27500,-400,10\n",
    "\n",
    "extent=[x0,x1,z0,z1]\n",
    "\n",
    "\n",
    "Lz = z1-z0\n",
    "resz=2\n",
    "nlay = int(Lz/resz)\n",
    "delz = np.ones(nlay)*resz\n",
    "\n",
    "Lx = x1-x0\n",
    "resx=20\n",
    "ncol = int(Lx/resx)\n",
    "delr= np.ones(ncol)*resx\n",
    "\n",
    "xs=np.linspace(x0+resx/2,x1-resx/2,ncol)\n",
    "top=np.interp(xs,cr.geometry.x.values-transfo,alt_liss)\n",
    "top=pd.Series(top).fillna(method='bfill').values\n",
    "\n",
    "vertices=[]\n",
    "cell2d=[]\n",
    "for i in range(nlay):\n",
    "    for j in range(ncol):\n",
    "        vertices.append([ncol*i+j,xs[j]-resx/2,top[j]-resz*i])\n",
    "        cell2d.append([ncol*i+j,xs[j],top[j]-resz*(i+.5),ncol*i+j])\n",
    "\n",
    "grid= fp.discretization.StructuredGrid(delz,delr,xoff=x0,yoff=z0)\n",
    "grid2 = fp.discretization.VertexGrid(vertices=vertices,cell2d=cell2d)\n",
    "\n",
    "print(nlay,ncol)"
   ]
  },
  {
   "cell_type": "code",
   "execution_count": null,
   "id": "fcd225be",
   "metadata": {},
   "outputs": [],
   "source": [
    "geogr=geol.resample_to_grid(grid,band = 1,method=\"nearest\")"
   ]
  },
  {
   "cell_type": "code",
   "execution_count": null,
   "id": "164d6278",
   "metadata": {},
   "outputs": [],
   "source": [
    "fig,ax=plt.subplots(1,1,figsize=(10,5))\n",
    "coupe=ax.imshow(geogr, cmap=cmap, norm=norm,interpolation='none',extent=[x0,x1,z0,z1],aspect='10')\n",
    "cbar=plt.colorbar(coupe,location='left',ticks=[1,2,3,4,5,6,7],shrink=.7)\n",
    "cbar.ax.set_yticklabels(['Fluvial Channels','Flood plain','marshland','marine sand','marine clays','proximal marine silts','gravity deposit']);\n",
    "plt.savefig('setup_SWI.png',dpi=300,bbox_inches='tight')"
   ]
  },
  {
   "cell_type": "code",
   "execution_count": null,
   "id": "108875e7",
   "metadata": {},
   "outputs": [],
   "source": [
    "plt.plot(cr.geometry.x-transfo,alt_liss,color='brown')\n",
    "plt.scatter(xs,top)\n",
    "plt.xlim(x0,x1)"
   ]
  },
  {
   "cell_type": "markdown",
   "id": "a8031f7e",
   "metadata": {},
   "source": [
    "# Estimation K"
   ]
  },
  {
   "cell_type": "code",
   "execution_count": null,
   "id": "845d4659",
   "metadata": {},
   "outputs": [],
   "source": [
    "acurve = -np.arctan(np.diff(alt_liss[::100])/np.diff(cr.geometry.x[::100]))*180.0/np.pi"
   ]
  },
  {
   "cell_type": "code",
   "execution_count": null,
   "id": "9ab204a6",
   "metadata": {},
   "outputs": [],
   "source": [
    "posx=cr.geometry.x[::100][1:].values-transfo\n",
    "x=np.linspace(x0,x1-delr[0],ncol)\n",
    "angle_grid=np.interp(x,posx,acurve)\n",
    "angle_grid=np.nan_to_num(angle_grid,0)"
   ]
  },
  {
   "cell_type": "code",
   "execution_count": null,
   "id": "84cbdc91",
   "metadata": {},
   "outputs": [],
   "source": [
    "delr[0]/delz[0]"
   ]
  },
  {
   "cell_type": "code",
   "execution_count": null,
   "id": "ba9f32fa",
   "metadata": {},
   "outputs": [],
   "source": [
    "angle=np.zeros((np.shape(geogr)[0],np.shape(geogr)[1]))\n",
    "for i in range(len(angle_grid)):\n",
    "    angle[:,i]=angle_grid[i]*delr[0]/delz[0]\n",
    "\n"
   ]
  },
  {
   "cell_type": "code",
   "execution_count": null,
   "id": "17e15bc4",
   "metadata": {},
   "outputs": [],
   "source": [
    "plt.imshow(angle)\n",
    "plt.colorbar()"
   ]
  },
  {
   "cell_type": "code",
   "execution_count": null,
   "id": "2a939c89",
   "metadata": {},
   "outputs": [],
   "source": [
    "# Define a reference covariance model (stationary)\n",
    "cov_model_ref = gn.covModel.CovModel2D(elem=[\n",
    "    ('spherical', {'w':1, 'r':[80.,15.]}), # elementary contribution\n",
    "    ], alpha=0.0, name='ref')\n",
    "\n",
    "# Define the reference non-stationary covariance model\n",
    "#   - Set locally varying angle: alpha in the grid\n",
    "cov_model_loc_ref = gn.covModel.copyCovModel(cov_model_ref)\n",
    "cov_model_loc_ref.set_alpha(angle)"
   ]
  },
  {
   "cell_type": "code",
   "execution_count": null,
   "id": "e0bdedbd",
   "metadata": {},
   "outputs": [],
   "source": [
    "nreal = 1\n",
    "np.random.seed()\n",
    "geosclassic_output = gn.geosclassicinterface.simulate2D(cov_model_loc_ref, (ncol, nlay), (1,1), (x0, z0), \n",
    "                                                        method='simple_kriging', nneighborMax=20, nreal=nreal, \n",
    "                                                        nthreads=8)\n",
    "\n",
    "im_ref = geosclassic_output['image']\n",
    "\n",
    "plt.figure(figsize=(15,5))\n",
    "gn.imgplot.drawImage2D(im_ref, cmap='terrain')\n",
    "plt.show()"
   ]
  },
  {
   "cell_type": "code",
   "execution_count": null,
   "id": "079d295b",
   "metadata": {},
   "outputs": [],
   "source": [
    "out=-1*geosclassic_output['image'].val"
   ]
  },
  {
   "cell_type": "code",
   "execution_count": null,
   "id": "9def8fd9",
   "metadata": {},
   "outputs": [],
   "source": [
    "plt.imshow(np.flipud(out[0][0]-6),extent=[x0,x1,z0,z1],aspect='5',cmap='jet')\n",
    "plt.colorbar(location='bottom')"
   ]
  },
  {
   "cell_type": "code",
   "execution_count": null,
   "id": "ed936969",
   "metadata": {},
   "outputs": [],
   "source": [
    "K=np.copy(geogr)\n",
    "K_mean=np.copy(geogr)\n",
    "K_std=np.copy(geogr)\n",
    "S=np.copy(geogr)"
   ]
  },
  {
   "cell_type": "code",
   "execution_count": null,
   "id": "5f11efb0",
   "metadata": {},
   "outputs": [],
   "source": [
    "k_mean=[-5.5,-5.5,-8.5,-4.5,-10,-8,-6]\n",
    "k_std=[1/1.2,1/1.2,1/2.5,1/6,1/10,1/3,1/2]\n",
    "s_mean=np.log10(np.array([5e-3,1.5e-4,1e-6,2e-3,1e-6,1e-6,1e-4]))"
   ]
  },
  {
   "cell_type": "code",
   "execution_count": null,
   "id": "be7b883e",
   "metadata": {},
   "outputs": [],
   "source": [
    "for i in range(1,8):\n",
    "    K[geogr==i]=np.flipud(out[0][0])[geogr==i]*k_std[i-1]+k_mean[i-1]\n",
    "    K_mean[geogr==i]=k_mean[i-1]\n",
    "    K_std[geogr==i]=k_std[i-1]\n",
    "    S[geogr==i]=s_mean[i-1]"
   ]
  },
  {
   "cell_type": "code",
   "execution_count": null,
   "id": "719850fd",
   "metadata": {},
   "outputs": [],
   "source": [
    "plt.figure(figsize=(15,15))\n",
    "plt.imshow(K_mean,extent=[x0,x1,z0,z1],aspect='10',cmap='jet',vmin=np.nanmin(K),vmax=np.nanmax(K))\n",
    "plt.colorbar(location='bottom',label='log (K)')\n",
    "plt.savefig('K_mean.png',dpi=720,bbox_inches='tight')"
   ]
  },
  {
   "cell_type": "code",
   "execution_count": null,
   "id": "2679b1b0",
   "metadata": {},
   "outputs": [],
   "source": [
    "plt.figure(figsize=(15,15))\n",
    "plt.imshow(K_std,extent=[x0,x1,z0,z1],aspect='10',cmap='viridis')\n",
    "plt.colorbar(location='bottom',label='log (K)')\n",
    "plt.savefig('K_std.png',dpi=720,bbox_inches='tight')"
   ]
  },
  {
   "cell_type": "code",
   "execution_count": null,
   "id": "3328b60f",
   "metadata": {},
   "outputs": [],
   "source": [
    "plt.figure(figsize=(15,15))\n",
    "plt.imshow(K,extent=[x0,x1,z0,z1],aspect='5',cmap='jet',vmin=np.nanmin(K),vmax=np.nanmax(K))\n",
    "plt.colorbar(location='bottom',label='log (K)')\n",
    "plt.savefig('K_map.png',dpi=720,bbox_inches='tight')"
   ]
  },
  {
   "cell_type": "code",
   "execution_count": null,
   "id": "47d4e745",
   "metadata": {},
   "outputs": [],
   "source": [
    "%matplotlib inline\n",
    "plt.figure(figsize=(7,7))\n",
    "plt.imshow(S,extent=[x0,x1,z0,z1],aspect='10',cmap='jet')\n",
    "plt.colorbar(location='bottom',label='log (S)')\n",
    "plt.savefig('S_mean.png',dpi=720,bbox_inches='tight')"
   ]
  },
  {
   "cell_type": "code",
   "execution_count": null,
   "id": "aeca6743",
   "metadata": {},
   "outputs": [],
   "source": [
    "#save as tif\n",
    "import rasterio\n",
    "from rasterio.transform import Affine\n",
    "transform = Affine.translation(x0, z0) * Affine.scale(resx, resz)\n",
    "\n",
    "with rasterio.open(\n",
    "        \"K1.tif\",\n",
    "        mode=\"w\",\n",
    "        driver=\"GTiff\",\n",
    "        height=K.shape[0],\n",
    "        width=K.shape[1],\n",
    "        count=2,\n",
    "        dtype=K.dtype,\n",
    "        transform=transform,\n",
    ") as new_dataset:\n",
    "        new_dataset.write(np.flipud(K), 1)\n",
    "        new_dataset.write(np.flipud(S), 2)"
   ]
  },
  {
   "cell_type": "code",
   "execution_count": null,
   "id": "7baeae3a",
   "metadata": {},
   "outputs": [],
   "source": [
    "#Interpolate to unstructured grid\n",
    "\n",
    "K1=fp.utils.Raster.load('K1.tif')\n",
    "K2=K1.resample_to_grid(grid2,band = 1,method=\"nearest\")\n",
    "K2=pd.Series(K2).interpolate().values\n",
    "K_res=np.reshape(K2,(nlay,ncol))\n",
    "\n",
    "S1=fp.utils.Raster.load('K1.tif')\n",
    "S2=S1.resample_to_grid(grid2,band = 2,method=\"nearest\")\n",
    "S2=pd.Series(S2).interpolate().values\n",
    "S_res=np.reshape(S2,(nlay,ncol))"
   ]
  },
  {
   "cell_type": "code",
   "execution_count": null,
   "id": "3c416e5c",
   "metadata": {},
   "outputs": [],
   "source": [
    "plt.imshow(K_res,extent=[x0,x1,z0,z1],aspect='10',cmap='jet')"
   ]
  },
  {
   "cell_type": "code",
   "execution_count": null,
   "id": "4a837c9a",
   "metadata": {},
   "outputs": [],
   "source": [
    "plt.imshow(S_res,extent=[x0,x1,z0,z1],aspect='10',cmap='jet')"
   ]
  },
  {
   "cell_type": "code",
   "execution_count": null,
   "id": "981f855f",
   "metadata": {},
   "outputs": [],
   "source": [
    "plt.subplot(121)\n",
    "plt.imshow(K,extent=[x0,x1,z0,z1],aspect='10',cmap='jet')\n",
    "plt.subplot(122)\n",
    "plt.scatter(grid2.xcellcenters,grid2.ycellcenters,c=K2,cmap='jet',marker=\"s\")\n",
    "plt.xlim(x0,x1)\n",
    "plt.ylim(z0,z1)"
   ]
  },
  {
   "cell_type": "markdown",
   "id": "e7d519ce",
   "metadata": {},
   "source": [
    "# Saves"
   ]
  },
  {
   "cell_type": "code",
   "execution_count": null,
   "id": "5dd4cd2a",
   "metadata": {},
   "outputs": [],
   "source": [
    "fr.write_pickle(\"../data/cross_section/flopy\",[delr,delz,K_res,S_res,top,grid,extent])"
   ]
  },
  {
   "cell_type": "code",
   "execution_count": null,
   "id": "391df6e4",
   "metadata": {},
   "outputs": [],
   "source": []
  },
  {
   "cell_type": "code",
   "execution_count": null,
   "id": "01932dd4",
   "metadata": {},
   "outputs": [],
   "source": [
    "np.savetxt('../data/Kposter.txt',K_res)"
   ]
  }
 ],
 "metadata": {
  "kernelspec": {
   "display_name": "Python 3 (ipykernel)",
   "language": "python",
   "name": "python3"
  },
  "language_info": {
   "codemirror_mode": {
    "name": "ipython",
    "version": 3
   },
   "file_extension": ".py",
   "mimetype": "text/x-python",
   "name": "python",
   "nbconvert_exporter": "python",
   "pygments_lexer": "ipython3",
   "version": "3.11.3"
  }
 },
 "nbformat": 4,
 "nbformat_minor": 5
}
