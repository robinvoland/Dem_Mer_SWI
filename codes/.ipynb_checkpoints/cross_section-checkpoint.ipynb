{
 "cells": [
  {
   "cell_type": "code",
   "execution_count": 1,
   "id": "675f0ac9",
   "metadata": {},
   "outputs": [],
   "source": [
    "import numpy as np\n",
    "import matplotlib.pyplot as plt\n",
    "import geopandas as gpd\n",
    "from scipy.interpolate import NearestNDInterpolator\n",
    "from matplotlib import colors\n",
    "import pandas as pd"
   ]
  },
  {
   "cell_type": "code",
   "execution_count": 2,
   "id": "2eea5c35",
   "metadata": {},
   "outputs": [],
   "source": [
    "def remove_cell_iso(mat,f,min_size=10):\n",
    "    M=mat.copy()\n",
    "    M[M!=f]=0\n",
    "    labels=sp.ndimage.label(M)\n",
    "    label_count=np.zeros(labels[-1]+1)\n",
    "    for j in range(labels[-1]+1):\n",
    "        label_count[j]=np.sum(labels[0]==j)\n",
    "    mat[np.isin(labels[0],np.arange(labels[-1]+1)[label_count<min_size]) & np.equal(mat,f)]=np.nan\n",
    "    return mat"
   ]
  },
  {
   "cell_type": "code",
   "execution_count": 3,
   "id": "a228dfe4",
   "metadata": {},
   "outputs": [],
   "source": [
    "cmap = colors.ListedColormap(['orange', 'forestgreen','sienna','gold','navy','darksalmon','lightblue'])\n",
    "bounds=[0.5,1.5,2.5,3.5,4.5,5.5,6.5,7.5]\n",
    "norm = colors.BoundaryNorm(bounds, cmap.N)"
   ]
  },
  {
   "cell_type": "code",
   "execution_count": null,
   "id": "429ea7a0-3e66-4611-ac49-b019ea62e588",
   "metadata": {},
   "outputs": [],
   "source": []
  },
  {
   "cell_type": "code",
   "execution_count": 4,
   "id": "f64b9be0",
   "metadata": {
    "scrolled": true
   },
   "outputs": [
    {
     "ename": "DataSourceError",
     "evalue": "../data/cross_section/cr_demmer.shp: No such file or directory",
     "output_type": "error",
     "traceback": [
      "\u001b[1;31m---------------------------------------------------------------------------\u001b[0m",
      "\u001b[1;31mDataSourceError\u001b[0m                           Traceback (most recent call last)",
      "Cell \u001b[1;32mIn[4], line 1\u001b[0m\n\u001b[1;32m----> 1\u001b[0m cr\u001b[38;5;241m=\u001b[39m\u001b[43mgpd\u001b[49m\u001b[38;5;241;43m.\u001b[39;49m\u001b[43mread_file\u001b[49m\u001b[43m(\u001b[49m\u001b[38;5;124;43m'\u001b[39;49m\u001b[38;5;124;43m../data/cross_section/cr_demmer.shp\u001b[39;49m\u001b[38;5;124;43m'\u001b[39;49m\u001b[43m)\u001b[49m\n",
      "File \u001b[1;32m~\\anaconda3\\Lib\\site-packages\\geopandas\\io\\file.py:294\u001b[0m, in \u001b[0;36m_read_file\u001b[1;34m(filename, bbox, mask, columns, rows, engine, **kwargs)\u001b[0m\n\u001b[0;32m    291\u001b[0m             from_bytes \u001b[38;5;241m=\u001b[39m \u001b[38;5;28;01mTrue\u001b[39;00m\n\u001b[0;32m    293\u001b[0m \u001b[38;5;28;01mif\u001b[39;00m engine \u001b[38;5;241m==\u001b[39m \u001b[38;5;124m\"\u001b[39m\u001b[38;5;124mpyogrio\u001b[39m\u001b[38;5;124m\"\u001b[39m:\n\u001b[1;32m--> 294\u001b[0m     \u001b[38;5;28;01mreturn\u001b[39;00m \u001b[43m_read_file_pyogrio\u001b[49m\u001b[43m(\u001b[49m\n\u001b[0;32m    295\u001b[0m \u001b[43m        \u001b[49m\u001b[43mfilename\u001b[49m\u001b[43m,\u001b[49m\u001b[43m \u001b[49m\u001b[43mbbox\u001b[49m\u001b[38;5;241;43m=\u001b[39;49m\u001b[43mbbox\u001b[49m\u001b[43m,\u001b[49m\u001b[43m \u001b[49m\u001b[43mmask\u001b[49m\u001b[38;5;241;43m=\u001b[39;49m\u001b[43mmask\u001b[49m\u001b[43m,\u001b[49m\u001b[43m \u001b[49m\u001b[43mcolumns\u001b[49m\u001b[38;5;241;43m=\u001b[39;49m\u001b[43mcolumns\u001b[49m\u001b[43m,\u001b[49m\u001b[43m \u001b[49m\u001b[43mrows\u001b[49m\u001b[38;5;241;43m=\u001b[39;49m\u001b[43mrows\u001b[49m\u001b[43m,\u001b[49m\u001b[43m \u001b[49m\u001b[38;5;241;43m*\u001b[39;49m\u001b[38;5;241;43m*\u001b[39;49m\u001b[43mkwargs\u001b[49m\n\u001b[0;32m    296\u001b[0m \u001b[43m    \u001b[49m\u001b[43m)\u001b[49m\n\u001b[0;32m    298\u001b[0m \u001b[38;5;28;01melif\u001b[39;00m engine \u001b[38;5;241m==\u001b[39m \u001b[38;5;124m\"\u001b[39m\u001b[38;5;124mfiona\u001b[39m\u001b[38;5;124m\"\u001b[39m:\n\u001b[0;32m    299\u001b[0m     \u001b[38;5;28;01mif\u001b[39;00m pd\u001b[38;5;241m.\u001b[39mapi\u001b[38;5;241m.\u001b[39mtypes\u001b[38;5;241m.\u001b[39mis_file_like(filename):\n",
      "File \u001b[1;32m~\\anaconda3\\Lib\\site-packages\\geopandas\\io\\file.py:547\u001b[0m, in \u001b[0;36m_read_file_pyogrio\u001b[1;34m(path_or_bytes, bbox, mask, rows, **kwargs)\u001b[0m\n\u001b[0;32m    538\u001b[0m     warnings\u001b[38;5;241m.\u001b[39mwarn(\n\u001b[0;32m    539\u001b[0m         \u001b[38;5;124m\"\u001b[39m\u001b[38;5;124mThe \u001b[39m\u001b[38;5;124m'\u001b[39m\u001b[38;5;124minclude_fields\u001b[39m\u001b[38;5;124m'\u001b[39m\u001b[38;5;124m and \u001b[39m\u001b[38;5;124m'\u001b[39m\u001b[38;5;124mignore_fields\u001b[39m\u001b[38;5;124m'\u001b[39m\u001b[38;5;124m keywords are deprecated, and \u001b[39m\u001b[38;5;124m\"\u001b[39m\n\u001b[0;32m    540\u001b[0m         \u001b[38;5;124m\"\u001b[39m\u001b[38;5;124mwill be removed in a future release. You can use the \u001b[39m\u001b[38;5;124m'\u001b[39m\u001b[38;5;124mcolumns\u001b[39m\u001b[38;5;124m'\u001b[39m\u001b[38;5;124m keyword \u001b[39m\u001b[38;5;124m\"\u001b[39m\n\u001b[1;32m   (...)\u001b[0m\n\u001b[0;32m    543\u001b[0m         stacklevel\u001b[38;5;241m=\u001b[39m\u001b[38;5;241m3\u001b[39m,\n\u001b[0;32m    544\u001b[0m     )\n\u001b[0;32m    545\u001b[0m     kwargs[\u001b[38;5;124m\"\u001b[39m\u001b[38;5;124mcolumns\u001b[39m\u001b[38;5;124m\"\u001b[39m] \u001b[38;5;241m=\u001b[39m kwargs\u001b[38;5;241m.\u001b[39mpop(\u001b[38;5;124m\"\u001b[39m\u001b[38;5;124minclude_fields\u001b[39m\u001b[38;5;124m\"\u001b[39m)\n\u001b[1;32m--> 547\u001b[0m \u001b[38;5;28;01mreturn\u001b[39;00m \u001b[43mpyogrio\u001b[49m\u001b[38;5;241;43m.\u001b[39;49m\u001b[43mread_dataframe\u001b[49m\u001b[43m(\u001b[49m\u001b[43mpath_or_bytes\u001b[49m\u001b[43m,\u001b[49m\u001b[43m \u001b[49m\u001b[43mbbox\u001b[49m\u001b[38;5;241;43m=\u001b[39;49m\u001b[43mbbox\u001b[49m\u001b[43m,\u001b[49m\u001b[43m \u001b[49m\u001b[38;5;241;43m*\u001b[39;49m\u001b[38;5;241;43m*\u001b[39;49m\u001b[43mkwargs\u001b[49m\u001b[43m)\u001b[49m\n",
      "File \u001b[1;32m~\\anaconda3\\Lib\\site-packages\\pyogrio\\geopandas.py:265\u001b[0m, in \u001b[0;36mread_dataframe\u001b[1;34m(path_or_buffer, layer, encoding, columns, read_geometry, force_2d, skip_features, max_features, where, bbox, mask, fids, sql, sql_dialect, fid_as_index, use_arrow, on_invalid, arrow_to_pandas_kwargs, **kwargs)\u001b[0m\n\u001b[0;32m    260\u001b[0m \u001b[38;5;28;01mif\u001b[39;00m \u001b[38;5;129;01mnot\u001b[39;00m use_arrow:\n\u001b[0;32m    261\u001b[0m     \u001b[38;5;66;03m# For arrow, datetimes are read as is.\u001b[39;00m\n\u001b[0;32m    262\u001b[0m     \u001b[38;5;66;03m# For numpy IO, datetimes are read as string values to preserve timezone info\u001b[39;00m\n\u001b[0;32m    263\u001b[0m     \u001b[38;5;66;03m# as numpy does not directly support timezones.\u001b[39;00m\n\u001b[0;32m    264\u001b[0m     kwargs[\u001b[38;5;124m\"\u001b[39m\u001b[38;5;124mdatetime_as_string\u001b[39m\u001b[38;5;124m\"\u001b[39m] \u001b[38;5;241m=\u001b[39m \u001b[38;5;28;01mTrue\u001b[39;00m\n\u001b[1;32m--> 265\u001b[0m result \u001b[38;5;241m=\u001b[39m \u001b[43mread_func\u001b[49m\u001b[43m(\u001b[49m\n\u001b[0;32m    266\u001b[0m \u001b[43m    \u001b[49m\u001b[43mpath_or_buffer\u001b[49m\u001b[43m,\u001b[49m\n\u001b[0;32m    267\u001b[0m \u001b[43m    \u001b[49m\u001b[43mlayer\u001b[49m\u001b[38;5;241;43m=\u001b[39;49m\u001b[43mlayer\u001b[49m\u001b[43m,\u001b[49m\n\u001b[0;32m    268\u001b[0m \u001b[43m    \u001b[49m\u001b[43mencoding\u001b[49m\u001b[38;5;241;43m=\u001b[39;49m\u001b[43mencoding\u001b[49m\u001b[43m,\u001b[49m\n\u001b[0;32m    269\u001b[0m \u001b[43m    \u001b[49m\u001b[43mcolumns\u001b[49m\u001b[38;5;241;43m=\u001b[39;49m\u001b[43mcolumns\u001b[49m\u001b[43m,\u001b[49m\n\u001b[0;32m    270\u001b[0m \u001b[43m    \u001b[49m\u001b[43mread_geometry\u001b[49m\u001b[38;5;241;43m=\u001b[39;49m\u001b[43mread_geometry\u001b[49m\u001b[43m,\u001b[49m\n\u001b[0;32m    271\u001b[0m \u001b[43m    \u001b[49m\u001b[43mforce_2d\u001b[49m\u001b[38;5;241;43m=\u001b[39;49m\u001b[43mgdal_force_2d\u001b[49m\u001b[43m,\u001b[49m\n\u001b[0;32m    272\u001b[0m \u001b[43m    \u001b[49m\u001b[43mskip_features\u001b[49m\u001b[38;5;241;43m=\u001b[39;49m\u001b[43mskip_features\u001b[49m\u001b[43m,\u001b[49m\n\u001b[0;32m    273\u001b[0m \u001b[43m    \u001b[49m\u001b[43mmax_features\u001b[49m\u001b[38;5;241;43m=\u001b[39;49m\u001b[43mmax_features\u001b[49m\u001b[43m,\u001b[49m\n\u001b[0;32m    274\u001b[0m \u001b[43m    \u001b[49m\u001b[43mwhere\u001b[49m\u001b[38;5;241;43m=\u001b[39;49m\u001b[43mwhere\u001b[49m\u001b[43m,\u001b[49m\n\u001b[0;32m    275\u001b[0m \u001b[43m    \u001b[49m\u001b[43mbbox\u001b[49m\u001b[38;5;241;43m=\u001b[39;49m\u001b[43mbbox\u001b[49m\u001b[43m,\u001b[49m\n\u001b[0;32m    276\u001b[0m \u001b[43m    \u001b[49m\u001b[43mmask\u001b[49m\u001b[38;5;241;43m=\u001b[39;49m\u001b[43mmask\u001b[49m\u001b[43m,\u001b[49m\n\u001b[0;32m    277\u001b[0m \u001b[43m    \u001b[49m\u001b[43mfids\u001b[49m\u001b[38;5;241;43m=\u001b[39;49m\u001b[43mfids\u001b[49m\u001b[43m,\u001b[49m\n\u001b[0;32m    278\u001b[0m \u001b[43m    \u001b[49m\u001b[43msql\u001b[49m\u001b[38;5;241;43m=\u001b[39;49m\u001b[43msql\u001b[49m\u001b[43m,\u001b[49m\n\u001b[0;32m    279\u001b[0m \u001b[43m    \u001b[49m\u001b[43msql_dialect\u001b[49m\u001b[38;5;241;43m=\u001b[39;49m\u001b[43msql_dialect\u001b[49m\u001b[43m,\u001b[49m\n\u001b[0;32m    280\u001b[0m \u001b[43m    \u001b[49m\u001b[43mreturn_fids\u001b[49m\u001b[38;5;241;43m=\u001b[39;49m\u001b[43mfid_as_index\u001b[49m\u001b[43m,\u001b[49m\n\u001b[0;32m    281\u001b[0m \u001b[43m    \u001b[49m\u001b[38;5;241;43m*\u001b[39;49m\u001b[38;5;241;43m*\u001b[39;49m\u001b[43mkwargs\u001b[49m\u001b[43m,\u001b[49m\n\u001b[0;32m    282\u001b[0m \u001b[43m\u001b[49m\u001b[43m)\u001b[49m\n\u001b[0;32m    284\u001b[0m \u001b[38;5;28;01mif\u001b[39;00m use_arrow:\n\u001b[0;32m    285\u001b[0m     meta, table \u001b[38;5;241m=\u001b[39m result\n",
      "File \u001b[1;32m~\\anaconda3\\Lib\\site-packages\\pyogrio\\raw.py:198\u001b[0m, in \u001b[0;36mread\u001b[1;34m(path_or_buffer, layer, encoding, columns, read_geometry, force_2d, skip_features, max_features, where, bbox, mask, fids, sql, sql_dialect, return_fids, datetime_as_string, **kwargs)\u001b[0m\n\u001b[0;32m     59\u001b[0m \u001b[38;5;250m\u001b[39m\u001b[38;5;124;03m\"\"\"Read OGR data source into numpy arrays.\u001b[39;00m\n\u001b[0;32m     60\u001b[0m \n\u001b[0;32m     61\u001b[0m \u001b[38;5;124;03mIMPORTANT: non-linear geometry types (e.g., MultiSurface) are converted\u001b[39;00m\n\u001b[1;32m   (...)\u001b[0m\n\u001b[0;32m    194\u001b[0m \n\u001b[0;32m    195\u001b[0m \u001b[38;5;124;03m\"\"\"\u001b[39;00m\n\u001b[0;32m    196\u001b[0m dataset_kwargs \u001b[38;5;241m=\u001b[39m _preprocess_options_key_value(kwargs) \u001b[38;5;28;01mif\u001b[39;00m kwargs \u001b[38;5;28;01melse\u001b[39;00m {}\n\u001b[1;32m--> 198\u001b[0m \u001b[38;5;28;01mreturn\u001b[39;00m \u001b[43mogr_read\u001b[49m\u001b[43m(\u001b[49m\n\u001b[0;32m    199\u001b[0m \u001b[43m    \u001b[49m\u001b[43mget_vsi_path_or_buffer\u001b[49m\u001b[43m(\u001b[49m\u001b[43mpath_or_buffer\u001b[49m\u001b[43m)\u001b[49m\u001b[43m,\u001b[49m\n\u001b[0;32m    200\u001b[0m \u001b[43m    \u001b[49m\u001b[43mlayer\u001b[49m\u001b[38;5;241;43m=\u001b[39;49m\u001b[43mlayer\u001b[49m\u001b[43m,\u001b[49m\n\u001b[0;32m    201\u001b[0m \u001b[43m    \u001b[49m\u001b[43mencoding\u001b[49m\u001b[38;5;241;43m=\u001b[39;49m\u001b[43mencoding\u001b[49m\u001b[43m,\u001b[49m\n\u001b[0;32m    202\u001b[0m \u001b[43m    \u001b[49m\u001b[43mcolumns\u001b[49m\u001b[38;5;241;43m=\u001b[39;49m\u001b[43mcolumns\u001b[49m\u001b[43m,\u001b[49m\n\u001b[0;32m    203\u001b[0m \u001b[43m    \u001b[49m\u001b[43mread_geometry\u001b[49m\u001b[38;5;241;43m=\u001b[39;49m\u001b[43mread_geometry\u001b[49m\u001b[43m,\u001b[49m\n\u001b[0;32m    204\u001b[0m \u001b[43m    \u001b[49m\u001b[43mforce_2d\u001b[49m\u001b[38;5;241;43m=\u001b[39;49m\u001b[43mforce_2d\u001b[49m\u001b[43m,\u001b[49m\n\u001b[0;32m    205\u001b[0m \u001b[43m    \u001b[49m\u001b[43mskip_features\u001b[49m\u001b[38;5;241;43m=\u001b[39;49m\u001b[43mskip_features\u001b[49m\u001b[43m,\u001b[49m\n\u001b[0;32m    206\u001b[0m \u001b[43m    \u001b[49m\u001b[43mmax_features\u001b[49m\u001b[38;5;241;43m=\u001b[39;49m\u001b[43mmax_features\u001b[49m\u001b[43m \u001b[49m\u001b[38;5;129;43;01mor\u001b[39;49;00m\u001b[43m \u001b[49m\u001b[38;5;241;43m0\u001b[39;49m\u001b[43m,\u001b[49m\n\u001b[0;32m    207\u001b[0m \u001b[43m    \u001b[49m\u001b[43mwhere\u001b[49m\u001b[38;5;241;43m=\u001b[39;49m\u001b[43mwhere\u001b[49m\u001b[43m,\u001b[49m\n\u001b[0;32m    208\u001b[0m \u001b[43m    \u001b[49m\u001b[43mbbox\u001b[49m\u001b[38;5;241;43m=\u001b[39;49m\u001b[43mbbox\u001b[49m\u001b[43m,\u001b[49m\n\u001b[0;32m    209\u001b[0m \u001b[43m    \u001b[49m\u001b[43mmask\u001b[49m\u001b[38;5;241;43m=\u001b[39;49m\u001b[43m_mask_to_wkb\u001b[49m\u001b[43m(\u001b[49m\u001b[43mmask\u001b[49m\u001b[43m)\u001b[49m\u001b[43m,\u001b[49m\n\u001b[0;32m    210\u001b[0m \u001b[43m    \u001b[49m\u001b[43mfids\u001b[49m\u001b[38;5;241;43m=\u001b[39;49m\u001b[43mfids\u001b[49m\u001b[43m,\u001b[49m\n\u001b[0;32m    211\u001b[0m \u001b[43m    \u001b[49m\u001b[43msql\u001b[49m\u001b[38;5;241;43m=\u001b[39;49m\u001b[43msql\u001b[49m\u001b[43m,\u001b[49m\n\u001b[0;32m    212\u001b[0m \u001b[43m    \u001b[49m\u001b[43msql_dialect\u001b[49m\u001b[38;5;241;43m=\u001b[39;49m\u001b[43msql_dialect\u001b[49m\u001b[43m,\u001b[49m\n\u001b[0;32m    213\u001b[0m \u001b[43m    \u001b[49m\u001b[43mreturn_fids\u001b[49m\u001b[38;5;241;43m=\u001b[39;49m\u001b[43mreturn_fids\u001b[49m\u001b[43m,\u001b[49m\n\u001b[0;32m    214\u001b[0m \u001b[43m    \u001b[49m\u001b[43mdataset_kwargs\u001b[49m\u001b[38;5;241;43m=\u001b[39;49m\u001b[43mdataset_kwargs\u001b[49m\u001b[43m,\u001b[49m\n\u001b[0;32m    215\u001b[0m \u001b[43m    \u001b[49m\u001b[43mdatetime_as_string\u001b[49m\u001b[38;5;241;43m=\u001b[39;49m\u001b[43mdatetime_as_string\u001b[49m\u001b[43m,\u001b[49m\n\u001b[0;32m    216\u001b[0m \u001b[43m\u001b[49m\u001b[43m)\u001b[49m\n",
      "File \u001b[1;32mpyogrio\\\\_io.pyx:1240\u001b[0m, in \u001b[0;36mpyogrio._io.ogr_read\u001b[1;34m()\u001b[0m\n",
      "File \u001b[1;32mpyogrio\\\\_io.pyx:220\u001b[0m, in \u001b[0;36mpyogrio._io.ogr_open\u001b[1;34m()\u001b[0m\n",
      "\u001b[1;31mDataSourceError\u001b[0m: ../data/cross_section/cr_demmer.shp: No such file or directory"
     ]
    }
   ],
   "source": [
    "cr=gpd.read_file('../data/cross_section/cr_demmer.shp')"
   ]
  },
  {
   "cell_type": "code",
   "execution_count": null,
   "id": "0a7c9668",
   "metadata": {},
   "outputs": [],
   "source": [
    "plt.figure(figsize=(12,6))\n",
    "plt.plot(cr.geometry.x,cr.alt,color='brown')\n",
    "plt.plot([702900,np.max(cr.geometry.x)],[0.59,0.59],color='dodgerblue')\n",
    "plt.ylim(-330,10)\n",
    "plt.plot([702705,702705],[4,-330],color='black',linestyle='dashed')\n",
    "\n",
    "plt.fill_between(cr.geometry.x[cr.alt<0.6],cr.alt[cr.alt<0.6],np.full(len(cr.geometry.x[cr.alt<0.6]),0.6),color='dodgerblue')\n",
    "\n",
    "dem1_top=np.full(len(cr.geometry.x[cr.alt>-22]),-4)\n",
    "dem1_top2=[min(dem1_top[i],cr.alt[cr.alt>-22][i]) for i in range(len(dem1_top))]\n",
    "plt.fill_between(cr.geometry.x[cr.alt>-22],np.full(len(cr.geometry.x[cr.alt>-22]),-22),dem1_top2, facecolor=\"gold\", edgecolor=\"gold\", linewidth=1.0,alpha=.5,label=\"Dem'mer1\")\n",
    "\n",
    "dem2_top=np.full(len(cr.geometry.x[cr.alt>-40]),-30)\n",
    "dem2_top2=[min(dem2_top[i],cr.alt[cr.alt>-40][i]) for i in range(len(dem2_top))]\n",
    "plt.fill_between(cr.geometry.x[cr.alt>-40],np.full(len(cr.geometry.x[cr.alt>-40]),-40),dem2_top2, facecolor=\"red\", edgecolor=\"red\", linewidth=1.0,alpha=.5,label=\"Dem'mer2\")\n",
    "\n",
    "dem3_top=np.full(len(cr.geometry.x[cr.alt>-83]),-48)\n",
    "dem3_top2=[min(dem3_top[i],cr.alt[cr.alt>-83][i]) for i in range(len(dem3_top))]\n",
    "plt.fill_between(cr.geometry.x[cr.alt>-83],np.full(len(cr.geometry.x[cr.alt>-83]),-83),dem3_top2, facecolor=\"blue\", edgecolor=\"blue\", linewidth=1.0,alpha=.5,label=\"Dem'mer3\")\n",
    "\n",
    "plt.fill_between([np.min(cr.geometry.x),np.max(cr.geometry.x)],[-115,-115],[-177,-177], facecolor=\"green\", edgecolor=\"green\", linewidth=1.0,alpha=.5,label=\"Dem'mer4\")\n",
    "plt.fill_between([np.min(cr.geometry.x),np.max(cr.geometry.x)],[-210,-210],[-244,-244], facecolor=\"green\", edgecolor=\"green\", linewidth=1.0,alpha=.5)\n",
    "plt.fill_between([np.min(cr.geometry.x),np.max(cr.geometry.x)],[-284,-284],[-313,-313], facecolor=\"brown\", edgecolor=\"brown\", linewidth=1.0,alpha=.5,label=\"Dem'mer5\")\n",
    "plt.ylabel('Altitude(m)')\n",
    "plt.xlabel('Coordonnées x en Lambert 94 (m)')\n",
    "plt.legend()"
   ]
  },
  {
   "cell_type": "code",
   "execution_count": null,
   "id": "254571c1",
   "metadata": {},
   "outputs": [],
   "source": [
    "import imageio.v3 as iio\n",
    "im = iio.imread('../data/cross_section/Facies.png')"
   ]
  },
  {
   "cell_type": "code",
   "execution_count": null,
   "id": "b5b57c8a",
   "metadata": {},
   "outputs": [],
   "source": [
    "xs=np.arange(0,np.shape(im)[1]).astype('float')\n",
    "ys=np.arange(0,np.shape(im)[0]).astype('float')\n",
    "\n",
    "#transformation:\n",
    "\n",
    "y_right_png=4517-371\n",
    "y_right_ai=177.49-72.17\n",
    "\n",
    "scaley_ai=181.65-59.98\n",
    "scaley_real=1200.\n",
    "\n",
    "y_transfo=y_right_ai/y_right_png*scaley_real/scaley_ai\n",
    "\n",
    "y_origin=4516 \n",
    "y_shift=(72.17- 59.98)*scaley_real/scaley_ai\n",
    "\n",
    "\n",
    "ys=(ys-y_origin)*y_transfo-y_shift\n",
    "\n",
    "x_top_png=9915-11\n",
    "x_top_ai=406.65-155.07\n",
    "\n",
    "scalex_ai=394.89-15.26\n",
    "scalex_real=75*1000\n",
    "\n",
    "x_transfo=x_top_ai/x_top_png*scalex_real/scalex_ai\n",
    "\n",
    "x_origin=9915\n",
    "\n",
    "x_shift=(406.65- 15.26)*scalex_real/scalex_ai\n",
    "\n",
    "\n",
    "xs=(xs-x_origin)*x_transfo+x_shift\n",
    "\n",
    "ys=ys[::-1]\n"
   ]
  },
  {
   "cell_type": "code",
   "execution_count": null,
   "id": "73df05d0",
   "metadata": {},
   "outputs": [],
   "source": [
    "plt.figure()\n",
    "plt.imshow(im,extent=[np.min(xs),np.max(xs),np.min(ys),np.max(ys)],aspect='20')"
   ]
  },
  {
   "cell_type": "code",
   "execution_count": null,
   "id": "fdacd0ba",
   "metadata": {},
   "outputs": [],
   "source": [
    "import cv2\n",
    "import scipy as sp\n",
    "gray = cv2.cvtColor(im[:,:,:-1], cv2.COLOR_BGR2GRAY)\n",
    "\n",
    "c1=136\n",
    "c2=159\n",
    "c3=83\n",
    "c4=169\n",
    "c4_=172\n",
    "c5=121\n",
    "c6,c6_=35,38\n",
    "c7=206\n",
    "\n",
    "\n",
    "\n",
    "fac=np.full(np.shape(im)[:-1],np.nan)\n",
    "fac[gray==c1]=1\n",
    "fac[gray==c2]=2\n",
    "fac[gray==c3]=3\n",
    "fac[gray==c4]=4\n",
    "fac[gray==c4_]=4\n",
    "fac[gray==c5]=5\n",
    "fac[gray==c6]=6\n",
    "fac[gray==c6_]=6\n",
    "fac[gray==c7]=7\n",
    "\n",
    "for i in range(1,8):\n",
    "    fac=remove_cell_iso(fac,i,min_size=10)\n",
    "\n",
    "\n",
    "flat=pd.Series(fac.flatten())\n",
    "flat2=flat.fillna(method='ffill')\n",
    "res=np.reshape(flat2.values,np.shape(fac))\n",
    "\n",
    "res[gray==255]=np.nan\n",
    "\n",
    "geol_mer=res.copy()"
   ]
  },
  {
   "cell_type": "code",
   "execution_count": null,
   "id": "56a41215",
   "metadata": {},
   "outputs": [],
   "source": [
    "%matplotlib inline\n",
    "coupe=plt.matshow(geol_mer,cmap=cmap, norm=norm,extent=[np.min(xs),np.max(xs),np.min(ys),np.max(ys)],aspect='20')\n",
    "cbar=plt.colorbar(coupe,location='left',ticks=[1,2,3,4,5,6,7],shrink=.7)\n",
    "cbar.ax.set_yticklabels(['Fluvial Channels','Flood plain','marshland','marine sand','marine clays','proximal marine silts','gravity deposit']);"
   ]
  },
  {
   "cell_type": "markdown",
   "id": "6e68fe85",
   "metadata": {},
   "source": [
    "# Coupe Terre"
   ]
  },
  {
   "cell_type": "code",
   "execution_count": null,
   "id": "a720c057",
   "metadata": {},
   "outputs": [],
   "source": [
    "im2 = iio.imread('../data/cross_section/Fichier 11.png')"
   ]
  },
  {
   "cell_type": "code",
   "execution_count": null,
   "id": "772769b5",
   "metadata": {},
   "outputs": [],
   "source": [
    "xs2=np.arange(0,np.shape(im2)[1]).astype('float')\n",
    "ys2=np.arange(0,np.shape(im2)[0]).astype('float')\n",
    "\n",
    "#transformation:\n",
    "\n",
    "y_left_png=2630-2106\n",
    "y_left_ai=60.41-47.1275 #0-haut à gauche \n",
    "\n",
    "scaley_ai=181.65-59.98\n",
    "scaley_real=1200.\n",
    "\n",
    "y_transfo=y_right_ai/y_right_png*scaley_real/scaley_ai\n",
    "\n",
    "y_origin=2630\n",
    "y_shift=(59.98-47.1275)*scaley_real/scaley_ai\n",
    "\n",
    "\n",
    "ys2=(ys2-y_origin)*y_transfo+y_shift\n",
    "\n",
    "x_top_png=4823-8\n",
    "x_top_ai=137.57-15.21 #droite-gauche\n",
    "#Left side alined to 0\n",
    "scalex_ai=394.89-15.26\n",
    "scalex_real=75*1000\n",
    "\n",
    "x_transfo=x_top_ai/x_top_png*scalex_real/scalex_ai\n",
    "\n",
    "x_origin=9\n",
    "\n",
    "x_shift=0\n",
    "\n",
    "\n",
    "xs2=(xs2-x_origin)*x_transfo+x_shift\n",
    "\n",
    "ys2=ys2[::-1]\n"
   ]
  },
  {
   "cell_type": "code",
   "execution_count": null,
   "id": "c97fba95",
   "metadata": {},
   "outputs": [],
   "source": [
    "%matplotlib notebook\n",
    "plt.figure()\n",
    "# xs2=np.arange(0,np.shape(im2)[1]).astype('float')\n",
    "# ys2=np.arange(0,np.shape(im2)[0]).astype('float')\n",
    "plt.imshow(gray,extent=[np.min(xs2),np.max(xs2),np.min(ys2),np.max(ys2)],aspect='20')"
   ]
  },
  {
   "cell_type": "code",
   "execution_count": null,
   "id": "12b5de71",
   "metadata": {},
   "outputs": [],
   "source": [
    "gray = cv2.cvtColor(im2[:,:,:-1], cv2.COLOR_BGR2GRAY)\n",
    "\n",
    "c1=135\n",
    "c2=120\n",
    "c3=69\n",
    "c4=188\n",
    "c5=154\n",
    "\n",
    "fac=np.full(np.shape(im2)[:-1],np.nan)\n",
    "fac[gray==c1]=1\n",
    "fac[gray==c2]=2\n",
    "fac[gray==c3]=3\n",
    "fac[gray==c4]=4\n",
    "fac[gray==c5]=5\n",
    "\n",
    "\n",
    "for i in range(1,6):\n",
    "    fac=remove_cell_iso(fac,i,min_size=10)\n",
    "\n",
    "\n",
    "flat=pd.Series(fac.flatten())\n",
    "flat2=flat.fillna(method='ffill')\n",
    "res=np.reshape(flat2.values,np.shape(fac))\n",
    "res[gray==255]=np.nan\n",
    "\n",
    "\n",
    "geol_terre=res.copy()"
   ]
  },
  {
   "cell_type": "code",
   "execution_count": null,
   "id": "587b4c26",
   "metadata": {},
   "outputs": [],
   "source": [
    "%matplotlib inline\n",
    "coupe=plt.matshow(geol_terre,cmap=cmap, norm=norm,extent=[np.min(xs2),np.max(xs2),np.min(ys2),np.max(ys2)],aspect='20')\n",
    "cbar=plt.colorbar(coupe,location='left',ticks=[1,2,3,4,5,6,7],shrink=.7)\n",
    "cbar.ax.set_yticklabels(['Fluvial Channels','Flood plain','marshland','marine sand','marine clays','proximal marine silts','gravity deposit']);"
   ]
  },
  {
   "cell_type": "code",
   "execution_count": null,
   "id": "d115b58b",
   "metadata": {},
   "outputs": [],
   "source": [
    "xs"
   ]
  },
  {
   "cell_type": "markdown",
   "id": "3e6be4a9",
   "metadata": {},
   "source": [
    "# Jonction"
   ]
  },
  {
   "cell_type": "code",
   "execution_count": null,
   "id": "6052e929",
   "metadata": {},
   "outputs": [],
   "source": [
    "im3 = iio.imread('../data/cross_section/Fichier 15.png')\n",
    "\n",
    "xs2=np.arange(0,np.shape(im2)[1]).astype('float')\n",
    "ys2=np.arange(0,np.shape(im2)[0]).astype('float')\n",
    "\n",
    "#transformation:\n",
    "\n",
    "y_left_png=2630-2106\n",
    "y_left_ai=60.41-47.1275 #0-haut à gauche \n",
    "\n",
    "scaley_ai=181.65-59.98\n",
    "scaley_real=1200.\n",
    "\n",
    "y_transfo=y_right_ai/y_right_png*scaley_real/scaley_ai\n",
    "\n",
    "y_origin=2630\n",
    "y_shift=(59.98-47.1275)*scaley_real/scaley_ai\n",
    "\n",
    "\n",
    "ys2=(ys2-y_origin)*y_transfo+y_shift\n",
    "\n",
    "x_top_png=4823-8\n",
    "x_top_ai=137.57-15.21 #droite-gauche\n",
    "#Left side alined to 0\n",
    "scalex_ai=394.89-15.26\n",
    "scalex_real=75*1000\n",
    "\n",
    "x_transfo=x_top_ai/x_top_png*scalex_real/scalex_ai\n",
    "\n",
    "x_origin=9\n",
    "\n",
    "x_shift=0\n",
    "\n",
    "\n",
    "xs2=(xs2-x_origin)*x_transfo+x_shift\n",
    "\n",
    "ys2=ys2[::-1]\n",
    "\n",
    "X,Y=np.meshgrid(xs2,ys2)"
   ]
  },
  {
   "cell_type": "code",
   "execution_count": null,
   "id": "5caaca40",
   "metadata": {},
   "outputs": [],
   "source": [
    "xs3=np.arange(0,np.shape(im3)[1]).astype('float')\n",
    "ys3=np.arange(0,np.shape(im3)[0]).astype('float')\n",
    "\n",
    "\n",
    "\n",
    "J1x=3\n",
    "J2x=694\n",
    "\n",
    "J1x_=24178.4\n",
    "J2x_=27610.935\n",
    "\n",
    "J1y=57\n",
    "J2y=1289\n",
    "\n",
    "J1y_=-14.3\n",
    "J2y_=-320\n",
    "\n",
    "scalex=(J2x_-J1x_)/(J2x-J1x)\n",
    "scaley=(J2y_-J1y_)/(J2y-J1y)\n",
    "\n",
    "xs3=(xs3-J1x)*scalex+J1x_\n",
    "ys3=(ys3-J1y)*scaley+J1y_\n",
    "\n"
   ]
  },
  {
   "cell_type": "code",
   "execution_count": null,
   "id": "2ef9c5df",
   "metadata": {},
   "outputs": [],
   "source": [
    "gray = cv2.cvtColor(im3[:,:,:-1], cv2.COLOR_BGR2GRAY)\n",
    "\n",
    "c1=135\n",
    "c2=120\n",
    "c3=69\n",
    "c4=188\n",
    "c5=154\n",
    "c6=35\n",
    "c6_=111\n",
    "\n",
    "fac=np.full(np.shape(im3)[:-1],np.nan)\n",
    "fac[gray==c1]=1\n",
    "fac[gray==c2]=2\n",
    "fac[gray==c3]=3\n",
    "fac[gray==c4]=4\n",
    "fac[gray==c5]=5\n",
    "fac[gray==c6]=6\n",
    "fac[gray==c6_]=6\n",
    "\n",
    "\n",
    "for i in range(1,7):\n",
    "    fac=remove_cell_iso(fac,i,min_size=100)\n",
    "\n",
    "\n",
    "flat=pd.Series(fac.flatten())\n",
    "flat2=flat.interpolate(method='nearest')\n",
    "res=np.reshape(flat2.values,np.shape(fac))\n",
    "\n",
    "res[:,:70][res[:,:70]==6]=1\n",
    "\n",
    "res[gray==255]=np.nan\n",
    "\n",
    "def droite_2(x,y):\n",
    "    if 43/673*x+92<y:\n",
    "        return True\n",
    "\n",
    "x2=np.arange(0,np.shape(im3)[1]).astype('float')\n",
    "y2=np.arange(0,np.shape(im3)[0]).astype('float') \n",
    "\n",
    "mask=np.full(np.shape(im3)[:-1],False)\n",
    "for i in range(len(mask)):\n",
    "    for j in range(len(mask[0])):\n",
    "        if droite_2(x2[j],y2[i]):\n",
    "            mask[i,j]=True\n",
    "\n",
    "\n",
    "res2=res.copy()\n",
    "res2[np.isnan(res2)*mask]=2\n",
    "res2[:,:3]=np.nan\n",
    "res2[:,-3:]=np.nan\n",
    "res2[2127:,:]=np.nan\n",
    "\n",
    "for i in range(1,7):\n",
    "    res2=remove_cell_iso(res2,i,min_size=100)\n",
    "\n",
    "\n",
    "flat=pd.Series(res2.flatten())\n",
    "flat2=flat.interpolate(method='nearest')\n",
    "res3=np.reshape(flat2.values,np.shape(res2))\n",
    "\n",
    "for i in range(1,7):\n",
    "    res3=remove_cell_iso(res3,i,min_size=10)\n",
    "\n",
    "flat=pd.Series(res3.flatten())\n",
    "flat2=flat.interpolate(method='nearest')\n",
    "res4=np.reshape(flat2.values,np.shape(res3))    \n",
    "    \n",
    "    \n",
    "def droite_nan(x,y):\n",
    "    if 108/643*x+22-432/643>y:\n",
    "        return True\n",
    "\n",
    "xnan=np.arange(0,np.shape(im3)[1]).astype('float')\n",
    "ynan=np.arange(0,np.shape(im3)[0]).astype('float') \n",
    "\n",
    "mask=np.full(np.shape(im3)[:-1],False)\n",
    "for i in range(len(mask)):\n",
    "    for j in range(len(mask[0])):\n",
    "        if droite_nan(xnan[j],ynan[i]):\n",
    "            mask[i,j]=True\n",
    "            \n",
    "geol_jonction=res3.copy()\n",
    "geol_jonction[:,5:][mask[:,5:]*np.isnan(res)[:,5:]]=np.nan\n",
    "geol_jonction[94:117,0:4]=2"
   ]
  },
  {
   "cell_type": "code",
   "execution_count": null,
   "id": "5cf7af0c",
   "metadata": {},
   "outputs": [],
   "source": [
    "%matplotlib notebook\n",
    "coupe=plt.matshow(geol_jonction,cmap=cmap, norm=norm,extent=[np.min(xs3),np.max(xs3),np.min(ys3),np.max(ys3)],aspect='20')\n",
    "cbar=plt.colorbar(coupe,location='left',ticks=[1,2,3,4,5,6,7],shrink=.7)\n",
    "cbar.ax.set_yticklabels(['Fluvial Channels','Flood plain','marshland','marine sand','marine clays','proximal marine silts','gravity deposit']);"
   ]
  },
  {
   "cell_type": "code",
   "execution_count": null,
   "id": "9ce2fb10",
   "metadata": {},
   "outputs": [],
   "source": [
    "np.savetxt('../data/cross_section/geol_mer.txt',geol_mer)\n",
    "np.savetxt('../data/cross_section/geol_terre.txt',geol_terre)\n",
    "np.savetxt('../data/cross_section/geol_jonction.txt',geol_jonction)"
   ]
  },
  {
   "cell_type": "code",
   "execution_count": null,
   "id": "383c4bde",
   "metadata": {},
   "outputs": [],
   "source": [
    "#too much memory\n",
    "%matplotlib notebook\n",
    "fig,ax=plt.subplots(1,1,figsize=(10,5))\n",
    "\n",
    "coupe=ax.contourf(xs2,ys2,geol_terre,cmap=cmap, norm=norm)\n",
    "coupe2=ax.contourf(xs,ys,geol_mer,cmap=cmap, norm=norm)\n",
    "coupe3=ax.contourf(xs3,ys3,geol_jonction,cmap=cmap, norm=norm)\n",
    "cbar=plt.colorbar(coupe2,location='left',ticks=[1,2,3,4,5,6,7],shrink=.7)\n",
    "cbar.ax.set_yticklabels(['Fluvial Channels','Flood plain','marshland','marine sand','marine clays','proximal marine silts','gravity deposit'])\n",
    "#plt.savefig('coupe_regroupee.png',dpi=300,bbox_inches='tight')"
   ]
  },
  {
   "cell_type": "code",
   "execution_count": null,
   "id": "0bcff2e2",
   "metadata": {},
   "outputs": [],
   "source": [
    "xs"
   ]
  },
  {
   "cell_type": "code",
   "execution_count": null,
   "id": "5c6fe1d6",
   "metadata": {},
   "outputs": [],
   "source": [
    "ys"
   ]
  },
  {
   "cell_type": "markdown",
   "id": "3e83797f",
   "metadata": {},
   "source": [
    "# Save as tif"
   ]
  },
  {
   "cell_type": "code",
   "execution_count": null,
   "id": "fc9dc70c",
   "metadata": {},
   "outputs": [],
   "source": [
    "import rasterio\n",
    "from rasterio.transform import Affine\n"
   ]
  },
  {
   "cell_type": "code",
   "execution_count": null,
   "id": "1495599c",
   "metadata": {},
   "outputs": [],
   "source": [
    "\n",
    "x,y=xs3,ys3\n",
    "X,Y=np.meshgrid(x,y)\n",
    "Z=geol_jonction"
   ]
  },
  {
   "cell_type": "code",
   "execution_count": null,
   "id": "a2f255b1",
   "metadata": {},
   "outputs": [],
   "source": [
    "\n",
    "\n",
    "xres = (x[-1] - x[0]) / len(x)\n",
    "yres = (y[-1] - y[0]) / len(y)\n",
    "\n",
    "transform = Affine.translation(x[0] - xres / 2, y[0] - yres / 2) * Affine.scale(xres, yres)\n",
    "\n",
    "with rasterio.open(\n",
    "        \"../data/cross_section/geol_jonction.tif\",\n",
    "        mode=\"w\",\n",
    "        driver=\"GTiff\",\n",
    "        height=Z.shape[0],\n",
    "        width=Z.shape[1],\n",
    "        count=1,\n",
    "        dtype=Z.dtype,\n",
    "        transform=transform,\n",
    ") as new_dataset:\n",
    "        new_dataset.write(Z, 1)"
   ]
  },
  {
   "cell_type": "code",
   "execution_count": null,
   "id": "6ca1e5b0",
   "metadata": {},
   "outputs": [],
   "source": [
    "raster = rasterio.open(\"../data/cross_section/geol_jonction.tif\")\n",
    "\n",
    "plt.imshow(raster.read(1), cmap=cmap, norm=norm,interpolation='none',extent=[raster.bounds[0],raster.bounds[2],raster.bounds[1],raster.bounds[3]],aspect='20')\n",
    "plt.show()"
   ]
  },
  {
   "cell_type": "code",
   "execution_count": null,
   "id": "4c408792",
   "metadata": {},
   "outputs": [],
   "source": [
    "from rasterio.merge import merge\n",
    "\n",
    "files_to_mosaic = [ \"../data/cross_section/geol_jonction.tif\",  \"../data/cross_section/geol_terre.tif\", \"../data/cross_section/geol_mer.tif\"] # However many you want.\n",
    "\n",
    "mosaic, output=merge(files_to_mosaic, method = 'first',nodata=np.nan)\n",
    "\n",
    "\n",
    "\n",
    "\n",
    "output_meta = raster.meta.copy()\n",
    "output_meta.update(\n",
    "    {\"driver\": \"GTiff\",\n",
    "        \"height\": mosaic.shape[1],\n",
    "        \"width\": mosaic.shape[2],\n",
    "        \"transform\": output,\n",
    "    }\n",
    ")\n",
    "\n",
    "\n",
    "with rasterio.open(\"../data/cross_section/geol_complete.tif\", \"w\",**output_meta) as m:\n",
    "    m.write(mosaic)"
   ]
  },
  {
   "cell_type": "code",
   "execution_count": null,
   "id": "fc533564",
   "metadata": {},
   "outputs": [],
   "source": [
    "demmerx=24100\n",
    "demmerx_real=702705\n",
    "transfo=demmerx_real-demmerx"
   ]
  },
  {
   "cell_type": "code",
   "execution_count": null,
   "id": "a87f816b",
   "metadata": {},
   "outputs": [],
   "source": [
    "%matplotlib inline\n",
    "raster = rasterio.open(\"../data/cross_section/geol_complete.tif\")\n",
    "fig,ax=plt.subplots(1,1,figsize=(12,4))\n",
    "ax.plot([24100,24100],[-400,10],color='red',linewidth=3)\n",
    "ax.plot([27500,27500],[-400,10],color='red',linewidth=3)\n",
    "ax.plot([24100,27500],[-400,-400],color='red',linewidth=3)\n",
    "ax.plot([24100,27500],[10,10],color='red',linewidth=3)\n",
    "coupe=ax.imshow(raster.read(1), cmap=cmap, norm=norm,interpolation='none',extent=[raster.bounds[0],raster.bounds[2],raster.bounds[1],raster.bounds[3]],aspect='20')\n",
    "cbar=plt.colorbar(coupe,location='left',ticks=[1,2,3,4,5,6,7],shrink=.5)\n",
    "cbar.ax.set_yticklabels(['Fluvial Channels','Flood plain','marshland','marine sand','marine clays','proximal marine silts','gravity deposit'])\n",
    "plt.xlabel(\"X (m)\",fontsize=14)\n",
    "plt.ylabel(\"Altitude (m)\",fontsize=14)\n",
    "plt.ylim(-450)\n",
    "plt.savefig('../Figs/cross_section_legende.png',dpi=300,bbox_inches='tight')"
   ]
  },
  {
   "cell_type": "code",
   "execution_count": null,
   "id": "f3a8a3a4",
   "metadata": {},
   "outputs": [],
   "source": []
  },
  {
   "cell_type": "code",
   "execution_count": null,
   "id": "4cdb1edc",
   "metadata": {},
   "outputs": [],
   "source": []
  }
 ],
 "metadata": {
  "kernelspec": {
   "display_name": "Python 3 (ipykernel)",
   "language": "python",
   "name": "python3"
  },
  "language_info": {
   "codemirror_mode": {
    "name": "ipython",
    "version": 3
   },
   "file_extension": ".py",
   "mimetype": "text/x-python",
   "name": "python",
   "nbconvert_exporter": "python",
   "pygments_lexer": "ipython3",
   "version": "3.11.7"
  }
 },
 "nbformat": 4,
 "nbformat_minor": 5
}
